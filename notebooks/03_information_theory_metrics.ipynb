{
 "cells": [
  {
   "cell_type": "markdown",
   "metadata": {},
   "source": [
    "# 03 Information Theory metrics"
   ]
  },
  {
   "cell_type": "code",
   "execution_count": 1,
   "metadata": {},
   "outputs": [
    {
     "data": {
      "text/html": [
       "\n",
       "                <script type=\"application/javascript\" id=\"jupyter_black\">\n",
       "                (function() {\n",
       "                    if (window.IPython === undefined) {\n",
       "                        return\n",
       "                    }\n",
       "                    var msg = \"WARNING: it looks like you might have loaded \" +\n",
       "                        \"jupyter_black in a non-lab notebook with \" +\n",
       "                        \"`is_lab=True`. Please double check, and if \" +\n",
       "                        \"loading with `%load_ext` please review the README!\"\n",
       "                    console.log(msg)\n",
       "                    alert(msg)\n",
       "                })()\n",
       "                </script>\n",
       "                "
      ],
      "text/plain": [
       "<IPython.core.display.HTML object>"
      ]
     },
     "metadata": {},
     "output_type": "display_data"
    }
   ],
   "source": [
    "%load_ext autoreload\n",
    "%autoreload 2\n",
    "import sys\n",
    "\n",
    "sys.path.append(\"../\")\n",
    "\n",
    "import jupyter_black\n",
    "\n",
    "jupyter_black.load()"
   ]
  },
  {
   "cell_type": "code",
   "execution_count": 2,
   "metadata": {},
   "outputs": [],
   "source": [
    "import math\n",
    "import pandas as pd\n",
    "import numpy as np\n",
    "import seaborn as sns\n",
    "import matplotlib.pyplot as plt\n",
    "import src.cleansing as cleansing\n",
    "from loguru import logger"
   ]
  },
  {
   "cell_type": "code",
   "execution_count": 3,
   "metadata": {},
   "outputs": [],
   "source": [
    "df = pd.read_csv(\"../data/Weather Data.csv\")\n",
    "\n",
    "# rename columns\n",
    "# parse datetime column\n",
    "df = cleansing.clean_weather_data(df)"
   ]
  },
  {
   "cell_type": "code",
   "execution_count": 4,
   "metadata": {},
   "outputs": [
    {
     "data": {
      "text/plain": [
       "Index(['date_time', 'temp_c', 'dew_point_temp_c', 'real_hum_pct',\n",
       "       'wind_speed_kmh', 'visibility_km', 'press_kpa', 'weather'],\n",
       "      dtype='object')"
      ]
     },
     "execution_count": 4,
     "metadata": {},
     "output_type": "execute_result"
    }
   ],
   "source": [
    "df.columns"
   ]
  },
  {
   "cell_type": "markdown",
   "metadata": {},
   "source": [
    "## Shannons' Entropy function\n",
    "\n",
    "H(x)"
   ]
  },
  {
   "cell_type": "code",
   "execution_count": 5,
   "metadata": {},
   "outputs": [],
   "source": [
    "from src.entropy import get_shannons_entropy"
   ]
  },
  {
   "cell_type": "code",
   "execution_count": 6,
   "metadata": {},
   "outputs": [
    {
     "name": "stderr",
     "output_type": "stream",
     "text": [
      "\u001b[32m2023-07-18 22:57:46.959\u001b[0m | \u001b[34m\u001b[1mDEBUG   \u001b[0m | \u001b[36msrc.entropy\u001b[0m:\u001b[36mget_marginal_probabilities\u001b[0m:\u001b[36m22\u001b[0m - \u001b[34m\u001b[1mNumerical data -1.8\u001b[0m\n"
     ]
    },
    {
     "data": {
      "text/plain": [
       "6.303542871569272"
      ]
     },
     "execution_count": 6,
     "metadata": {},
     "output_type": "execute_result"
    }
   ],
   "source": [
    "x = df.temp_c.values\n",
    "entropy_temp_c = get_shannons_entropy(x)\n",
    "entropy_temp_c"
   ]
  },
  {
   "cell_type": "markdown",
   "metadata": {},
   "source": [
    "## Mutual Information\n",
    "\n",
    "I(x, y)"
   ]
  },
  {
   "cell_type": "code",
   "execution_count": 7,
   "metadata": {},
   "outputs": [],
   "source": [
    "from src.mutual_information import get_mutual_information"
   ]
  },
  {
   "cell_type": "code",
   "execution_count": 8,
   "metadata": {},
   "outputs": [
    {
     "name": "stderr",
     "output_type": "stream",
     "text": [
      "\u001b[32m2023-07-18 22:57:47.001\u001b[0m | \u001b[34m\u001b[1mDEBUG   \u001b[0m | \u001b[36msrc.entropy\u001b[0m:\u001b[36mget_marginal_probabilities\u001b[0m:\u001b[36m22\u001b[0m - \u001b[34m\u001b[1mNumerical data -1.8\u001b[0m\n",
      "\u001b[32m2023-07-18 22:57:47.005\u001b[0m | \u001b[34m\u001b[1mDEBUG   \u001b[0m | \u001b[36msrc.entropy\u001b[0m:\u001b[36mget_marginal_probabilities\u001b[0m:\u001b[36m22\u001b[0m - \u001b[34m\u001b[1mNumerical data -3.9\u001b[0m\n"
     ]
    },
    {
     "data": {
      "text/plain": [
       "1.9931993003955788"
      ]
     },
     "execution_count": 8,
     "metadata": {},
     "output_type": "execute_result"
    }
   ],
   "source": [
    "x = df.temp_c.values\n",
    "y = df.dew_point_temp_c.values\n",
    "\n",
    "mi = get_mutual_information(x, y)\n",
    "mi"
   ]
  },
  {
   "cell_type": "code",
   "execution_count": 9,
   "metadata": {},
   "outputs": [
    {
     "name": "stderr",
     "output_type": "stream",
     "text": [
      "\u001b[32m2023-07-18 22:57:47.034\u001b[0m | \u001b[34m\u001b[1mDEBUG   \u001b[0m | \u001b[36msrc.entropy\u001b[0m:\u001b[36mget_marginal_probabilities\u001b[0m:\u001b[36m22\u001b[0m - \u001b[34m\u001b[1mNumerical data -1.8\u001b[0m\n",
      "\u001b[32m2023-07-18 22:57:47.038\u001b[0m | \u001b[34m\u001b[1mDEBUG   \u001b[0m | \u001b[36msrc.entropy\u001b[0m:\u001b[36mget_marginal_probabilities\u001b[0m:\u001b[36m22\u001b[0m - \u001b[34m\u001b[1mNumerical data 8.0\u001b[0m\n"
     ]
    },
    {
     "data": {
      "text/plain": [
       "0.2660521426744083"
      ]
     },
     "execution_count": 9,
     "metadata": {},
     "output_type": "execute_result"
    }
   ],
   "source": [
    "x = df.temp_c.values\n",
    "y = df.visibility_km.values\n",
    "\n",
    "mi = get_mutual_information(x, y)\n",
    "mi"
   ]
  },
  {
   "cell_type": "markdown",
   "metadata": {},
   "source": [
    "## Conditional Entropy\n",
    "\n",
    "H(x|y)"
   ]
  },
  {
   "cell_type": "code",
   "execution_count": 10,
   "metadata": {},
   "outputs": [
    {
     "name": "stderr",
     "output_type": "stream",
     "text": [
      "\u001b[32m2023-07-18 22:57:47.067\u001b[0m | \u001b[34m\u001b[1mDEBUG   \u001b[0m | \u001b[36msrc.entropy\u001b[0m:\u001b[36mget_marginal_probabilities\u001b[0m:\u001b[36m22\u001b[0m - \u001b[34m\u001b[1mNumerical data -1.8\u001b[0m\n",
      "\u001b[32m2023-07-18 22:57:47.073\u001b[0m | \u001b[34m\u001b[1mDEBUG   \u001b[0m | \u001b[36msrc.entropy\u001b[0m:\u001b[36mget_marginal_probabilities\u001b[0m:\u001b[36m22\u001b[0m - \u001b[34m\u001b[1mNumerical data -1.8\u001b[0m\n",
      "\u001b[32m2023-07-18 22:57:47.078\u001b[0m | \u001b[34m\u001b[1mDEBUG   \u001b[0m | \u001b[36msrc.entropy\u001b[0m:\u001b[36mget_marginal_probabilities\u001b[0m:\u001b[36m22\u001b[0m - \u001b[34m\u001b[1mNumerical data 8.0\u001b[0m\n"
     ]
    },
    {
     "name": "stdout",
     "output_type": "stream",
     "text": [
      "6.303542871569272 0.2660521426744083 6.037490728894864\n"
     ]
    }
   ],
   "source": [
    "x = df.temp_c.values\n",
    "y = df.visibility_km.values\n",
    "\n",
    "entropy = get_shannons_entropy(x)\n",
    "mi = get_mutual_information(x, y)\n",
    "joint_x_if_y = entropy - mi\n",
    "print(entropy, mi, joint_x_if_y)"
   ]
  },
  {
   "cell_type": "markdown",
   "metadata": {},
   "source": [
    "## Conditional Mutual Information\n",
    "\n",
    "I(x;y;z)"
   ]
  },
  {
   "cell_type": "code",
   "execution_count": 11,
   "metadata": {},
   "outputs": [],
   "source": [
    "from src.conditional_mutual_information import get_conditional_mutual_information"
   ]
  },
  {
   "cell_type": "code",
   "execution_count": 12,
   "metadata": {},
   "outputs": [
    {
     "name": "stderr",
     "output_type": "stream",
     "text": [
      "\u001b[32m2023-07-18 22:57:47.164\u001b[0m | \u001b[34m\u001b[1mDEBUG   \u001b[0m | \u001b[36msrc.entropy\u001b[0m:\u001b[36mget_marginal_probabilities\u001b[0m:\u001b[36m22\u001b[0m - \u001b[34m\u001b[1mNumerical data -1.8\u001b[0m\n",
      "\u001b[32m2023-07-18 22:57:47.166\u001b[0m | \u001b[34m\u001b[1mDEBUG   \u001b[0m | \u001b[36msrc.entropy\u001b[0m:\u001b[36mget_marginal_probabilities\u001b[0m:\u001b[36m22\u001b[0m - \u001b[34m\u001b[1mNumerical data 8.0\u001b[0m\n",
      "\u001b[32m2023-07-18 22:57:47.168\u001b[0m | \u001b[34m\u001b[1mDEBUG   \u001b[0m | \u001b[36msrc.entropy\u001b[0m:\u001b[36mget_marginal_probabilities\u001b[0m:\u001b[36m22\u001b[0m - \u001b[34m\u001b[1mNumerical data 101.24\u001b[0m\n"
     ]
    },
    {
     "data": {
      "text/plain": [
       "2.3259358378227235"
      ]
     },
     "execution_count": 12,
     "metadata": {},
     "output_type": "execute_result"
    }
   ],
   "source": [
    "x = df.temp_c.values\n",
    "y = df.visibility_km.values\n",
    "z = df.press_kpa.values\n",
    "\n",
    "cmi = get_conditional_mutual_information(x, y, z)\n",
    "cmi"
   ]
  },
  {
   "cell_type": "code",
   "execution_count": 13,
   "metadata": {},
   "outputs": [
    {
     "name": "stderr",
     "output_type": "stream",
     "text": [
      "\u001b[32m2023-07-18 22:57:47.306\u001b[0m | \u001b[34m\u001b[1mDEBUG   \u001b[0m | \u001b[36msrc.entropy\u001b[0m:\u001b[36mget_marginal_probabilities\u001b[0m:\u001b[36m22\u001b[0m - \u001b[34m\u001b[1mNumerical data -1.8\u001b[0m\n",
      "\u001b[32m2023-07-18 22:57:47.308\u001b[0m | \u001b[34m\u001b[1mDEBUG   \u001b[0m | \u001b[36msrc.entropy\u001b[0m:\u001b[36mget_marginal_probabilities\u001b[0m:\u001b[36m22\u001b[0m - \u001b[34m\u001b[1mNumerical data -1.8\u001b[0m\n",
      "\u001b[32m2023-07-18 22:57:47.310\u001b[0m | \u001b[34m\u001b[1mDEBUG   \u001b[0m | \u001b[36msrc.entropy\u001b[0m:\u001b[36mget_marginal_probabilities\u001b[0m:\u001b[36m22\u001b[0m - \u001b[34m\u001b[1mNumerical data 8.0\u001b[0m\n",
      "\u001b[32m2023-07-18 22:57:47.317\u001b[0m | \u001b[34m\u001b[1mDEBUG   \u001b[0m | \u001b[36msrc.entropy\u001b[0m:\u001b[36mget_marginal_probabilities\u001b[0m:\u001b[36m22\u001b[0m - \u001b[34m\u001b[1mNumerical data -1.8\u001b[0m\n",
      "\u001b[32m2023-07-18 22:57:47.319\u001b[0m | \u001b[34m\u001b[1mDEBUG   \u001b[0m | \u001b[36msrc.entropy\u001b[0m:\u001b[36mget_marginal_probabilities\u001b[0m:\u001b[36m22\u001b[0m - \u001b[34m\u001b[1mNumerical data 101.24\u001b[0m\n",
      "\u001b[32m2023-07-18 22:57:47.327\u001b[0m | \u001b[34m\u001b[1mDEBUG   \u001b[0m | \u001b[36msrc.entropy\u001b[0m:\u001b[36mget_marginal_probabilities\u001b[0m:\u001b[36m22\u001b[0m - \u001b[34m\u001b[1mNumerical data -1.8\u001b[0m\n",
      "\u001b[32m2023-07-18 22:57:47.329\u001b[0m | \u001b[34m\u001b[1mDEBUG   \u001b[0m | \u001b[36msrc.entropy\u001b[0m:\u001b[36mget_marginal_probabilities\u001b[0m:\u001b[36m22\u001b[0m - \u001b[34m\u001b[1mNumerical data 8.0\u001b[0m\n",
      "\u001b[32m2023-07-18 22:57:47.331\u001b[0m | \u001b[34m\u001b[1mDEBUG   \u001b[0m | \u001b[36msrc.entropy\u001b[0m:\u001b[36mget_marginal_probabilities\u001b[0m:\u001b[36m22\u001b[0m - \u001b[34m\u001b[1mNumerical data 101.24\u001b[0m\n"
     ]
    },
    {
     "name": "stdout",
     "output_type": "stream",
     "text": [
      "6.303542871569272 0.2660521426744083 0.7384244766812119 2.3259358378227235 7.625002090036375\n"
     ]
    }
   ],
   "source": [
    "x = df.temp_c.values\n",
    "y = df.visibility_km.values\n",
    "z = df.press_kpa.values\n",
    "\n",
    "entropy = get_shannons_entropy(x)\n",
    "mi_x_y = get_mutual_information(x, y)\n",
    "mi_x_z = get_mutual_information(x, z)\n",
    "cmi = get_conditional_mutual_information(x, y, z)\n",
    "\n",
    "joint_x_if_y_and_z = entropy - mi_x_y - mi_x_z + cmi\n",
    "print(entropy, mi_x_y, mi_x_z, cmi, joint_x_if_y_and_z)"
   ]
  },
  {
   "cell_type": "code",
   "execution_count": 43,
   "metadata": {},
   "outputs": [
    {
     "name": "stderr",
     "output_type": "stream",
     "text": [
      "\u001b[32m2023-07-19 22:33:58.891\u001b[0m | \u001b[34m\u001b[1mDEBUG   \u001b[0m | \u001b[36msrc.entropy\u001b[0m:\u001b[36mget_marginal_probabilities\u001b[0m:\u001b[36m17\u001b[0m - \u001b[34m\u001b[1mNumerical data 1\u001b[0m\n",
      "\u001b[32m2023-07-19 22:33:58.892\u001b[0m | \u001b[34m\u001b[1mDEBUG   \u001b[0m | \u001b[36msrc.entropy\u001b[0m:\u001b[36mget_marginal_probabilities\u001b[0m:\u001b[36m17\u001b[0m - \u001b[34m\u001b[1mNumerical data 1\u001b[0m\n",
      "\u001b[32m2023-07-19 22:33:58.892\u001b[0m | \u001b[34m\u001b[1mDEBUG   \u001b[0m | \u001b[36msrc.entropy\u001b[0m:\u001b[36mget_marginal_probabilities\u001b[0m:\u001b[36m17\u001b[0m - \u001b[34m\u001b[1mNumerical data 1\u001b[0m\n",
      "\u001b[32m2023-07-19 22:33:58.893\u001b[0m | \u001b[34m\u001b[1mDEBUG   \u001b[0m | \u001b[36msrc.entropy\u001b[0m:\u001b[36mget_marginal_probabilities\u001b[0m:\u001b[36m17\u001b[0m - \u001b[34m\u001b[1mNumerical data 1\u001b[0m\n",
      "\u001b[32m2023-07-19 22:33:58.893\u001b[0m | \u001b[34m\u001b[1mDEBUG   \u001b[0m | \u001b[36msrc.entropy\u001b[0m:\u001b[36mget_marginal_probabilities\u001b[0m:\u001b[36m17\u001b[0m - \u001b[34m\u001b[1mNumerical data 1\u001b[0m\n",
      "\u001b[32m2023-07-19 22:33:58.894\u001b[0m | \u001b[34m\u001b[1mDEBUG   \u001b[0m | \u001b[36msrc.entropy\u001b[0m:\u001b[36mget_marginal_probabilities\u001b[0m:\u001b[36m17\u001b[0m - \u001b[34m\u001b[1mNumerical data 1\u001b[0m\n",
      "\u001b[32m2023-07-19 22:33:58.894\u001b[0m | \u001b[34m\u001b[1mDEBUG   \u001b[0m | \u001b[36msrc.entropy\u001b[0m:\u001b[36mget_marginal_probabilities\u001b[0m:\u001b[36m17\u001b[0m - \u001b[34m\u001b[1mNumerical data 1\u001b[0m\n",
      "\u001b[32m2023-07-19 22:33:58.894\u001b[0m | \u001b[34m\u001b[1mDEBUG   \u001b[0m | \u001b[36msrc.entropy\u001b[0m:\u001b[36mget_marginal_probabilities\u001b[0m:\u001b[36m17\u001b[0m - \u001b[34m\u001b[1mNumerical data 1\u001b[0m\n"
     ]
    },
    {
     "name": "stdout",
     "output_type": "stream",
     "text": [
      "3.169925001442312 3.169925001442312 3.169925001442312 6.339850002884624 3.169925001442312\n"
     ]
    }
   ],
   "source": [
    "x = [1, 2, 3, 4, 5, 6, 7, 8, 9]\n",
    "y = [1, 2, 3, 4, 5, 6, 7, 8, 9]\n",
    "z = [1, 2, 3, 4, 5, 6, 7, 8, 9]\n",
    "\n",
    "entropy = get_shannons_entropy(x)\n",
    "mi_x_y = get_mutual_information(x, y)\n",
    "mi_x_z = get_mutual_information(x, z)\n",
    "cmi = get_conditional_mutual_information(x, y, z)\n",
    "\n",
    "joint_x_if_y_and_z = entropy - mi_x_y - mi_x_z + cmi\n",
    "print(entropy, mi_x_y, mi_x_z, cmi, joint_x_if_y_and_z)"
   ]
  },
  {
   "cell_type": "code",
   "execution_count": 44,
   "metadata": {},
   "outputs": [
    {
     "name": "stdout",
     "output_type": "stream",
     "text": [
      "3.169925001442312 3.169925001442312 3.169925001442312 6.339850002884624 3.169925001442312\n"
     ]
    }
   ],
   "source": [
    "print(entropy, mi_x_y, mi_x_z, cmi, joint_x_if_y_and_z)"
   ]
  },
  {
   "cell_type": "code",
   "execution_count": 47,
   "metadata": {},
   "outputs": [
    {
     "data": {
      "text/plain": [
       "2.1972245773362196"
      ]
     },
     "execution_count": 47,
     "metadata": {},
     "output_type": "execute_result"
    }
   ],
   "source": [
    "from sklearn.metrics import mutual_info_score\n",
    "\n",
    "# a = [\"A\", \"B\", \"A\", \"A\", \"B\", \"B\", \"A\", \"A\", \"B\", \"B\"]\n",
    "# x = [\"X\", \"X\", \"X\", \"Y\", \"Z\", \"Z\", \"Y\", \"Y\", \"Z\", \"Z\"]\n",
    "a = [1, 2, 3, 4, 5, 6, 7, 8, 9]\n",
    "x = [1, 2, 3, 4, 5, 6, 7, 8, 9]\n",
    "mi = mutual_info_score(a, x)\n",
    "mi"
   ]
  },
  {
   "cell_type": "code",
   "execution_count": 48,
   "metadata": {},
   "outputs": [
    {
     "name": "stderr",
     "output_type": "stream",
     "text": [
      "\u001b[32m2023-07-19 22:35:00.700\u001b[0m | \u001b[34m\u001b[1mDEBUG   \u001b[0m | \u001b[36msrc.entropy\u001b[0m:\u001b[36mget_marginal_probabilities\u001b[0m:\u001b[36m17\u001b[0m - \u001b[34m\u001b[1mNumerical data 1\u001b[0m\n",
      "\u001b[32m2023-07-19 22:35:00.701\u001b[0m | \u001b[34m\u001b[1mDEBUG   \u001b[0m | \u001b[36msrc.entropy\u001b[0m:\u001b[36mget_marginal_probabilities\u001b[0m:\u001b[36m17\u001b[0m - \u001b[34m\u001b[1mNumerical data 1\u001b[0m\n"
     ]
    },
    {
     "data": {
      "text/plain": [
       "3.169925001442312"
      ]
     },
     "execution_count": 48,
     "metadata": {},
     "output_type": "execute_result"
    }
   ],
   "source": [
    "a = [1, 2, 3, 4, 5, 6, 7, 8, 9]\n",
    "x = [1, 2, 3, 4, 5, 6, 7, 8, 9]\n",
    "mi = get_mutual_information(a, x)\n",
    "mi"
   ]
  },
  {
   "cell_type": "code",
   "execution_count": null,
   "metadata": {},
   "outputs": [],
   "source": []
  }
 ],
 "metadata": {
  "kernelspec": {
   "display_name": ".venv_it_proj3",
   "language": "python",
   "name": "python3"
  },
  "language_info": {
   "codemirror_mode": {
    "name": "ipython",
    "version": 3
   },
   "file_extension": ".py",
   "mimetype": "text/x-python",
   "name": "python",
   "nbconvert_exporter": "python",
   "pygments_lexer": "ipython3",
   "version": "3.10.4"
  },
  "orig_nbformat": 4
 },
 "nbformat": 4,
 "nbformat_minor": 2
}
