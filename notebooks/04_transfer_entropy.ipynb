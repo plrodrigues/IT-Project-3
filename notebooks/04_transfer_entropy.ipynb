{
 "cells": [
  {
   "cell_type": "markdown",
   "metadata": {},
   "source": [
    "# 04 Transfer Entropy"
   ]
  },
  {
   "cell_type": "code",
   "execution_count": null,
   "metadata": {},
   "outputs": [],
   "source": [
    "%load_ext autoreload\n",
    "%autoreload 2\n",
    "import sys\n",
    "\n",
    "sys.path.append(\"../\")\n",
    "\n",
    "import jupyter_black\n",
    "\n",
    "jupyter_black.load()"
   ]
  },
  {
   "cell_type": "code",
   "execution_count": null,
   "metadata": {},
   "outputs": [],
   "source": [
    "import math\n",
    "import pandas as pd\n",
    "import numpy as np\n",
    "import seaborn as sns\n",
    "import matplotlib.pyplot as plt\n",
    "import src.cleansing as cleansing\n",
    "from loguru import logger\n",
    "\n",
    "\n",
    "logger.remove()  # Remove any previous log handlers\n",
    "logger.add(lambda msg: print(msg), level=\"INFO\")"
   ]
  },
  {
   "cell_type": "code",
   "execution_count": null,
   "metadata": {},
   "outputs": [],
   "source": [
    "df = pd.read_csv(\"../data/Weather Data.csv\")\n",
    "\n",
    "# rename columns\n",
    "# parse datetime column\n",
    "df = cleansing.clean_weather_data(df)"
   ]
  },
  {
   "cell_type": "code",
   "execution_count": null,
   "metadata": {},
   "outputs": [],
   "source": [
    "df.head()"
   ]
  },
  {
   "cell_type": "code",
   "execution_count": null,
   "metadata": {},
   "outputs": [],
   "source": [
    "# Transfer Entropy uses the conditional mutual information formulation\n",
    "from src.transfer_entropy import get_transfer_entropy"
   ]
  },
  {
   "cell_type": "markdown",
   "metadata": {},
   "source": [
    "## The lags"
   ]
  },
  {
   "cell_type": "markdown",
   "metadata": {},
   "source": [
    "We observed that:\n",
    "- `temp_c` and `dew_point_temp_c` have high positive correlation\n",
    "- `visibility_km` and `real_hum_pct` have high negative correlation\n",
    "- `dew_point_temp_c` and `date_time` also appear to have some correlation\n",
    "\n",
    "Now, we are going to test their causality relationships.\n",
    "\n",
    "But first, we need to define the lags - from our interpretation, what lags can we use to find the different causality relationships? \n",
    "\n",
    "We have samples of every hour. We can explore the causality between entities with short lags: 1h, 3h; and longer lags; 12h, 24h, 48h"
   ]
  },
  {
   "cell_type": "code",
   "execution_count": null,
   "metadata": {},
   "outputs": [],
   "source": [
    "def run_transfer_entropy_for_dataframe(\n",
    "    df: pd.DataFrame, array_of_lags: list[int], **kwargs\n",
    ") -> pd.DataFrame:\n",
    "    numerical_columns = df.select_dtypes(include=[np.number])\n",
    "\n",
    "    results = []\n",
    "    # Compare each 2 by 2\n",
    "    for i in range(len(numerical_columns)):\n",
    "        for j in range(i + 1, len(numerical_columns)):\n",
    "            if i != j:\n",
    "                col_x1 = numerical_columns[i]\n",
    "                col_x2 = numerical_columns[j]\n",
    "                for lag in array_of_lags:\n",
    "                    x1 = df[col_x1].values.tolist()\n",
    "                    x2 = df[col_x2].values.tolist()\n",
    "                    te_from_2_to_1 = get_transfer_entropy(\n",
    "                        target_column=x1, causal_column=x2, lag=lag, **kwargs\n",
    "                    )\n",
    "                    te_from_1_to_2 = get_transfer_entropy(\n",
    "                        target_column=x2, causal_column=x1, lag=lag, **kwargs\n",
    "                    )\n",
    "                    # Create a dictionary to store the result\n",
    "                    result_dict = {\n",
    "                        \"ColumnX1\": col_x1,\n",
    "                        \"ColumnX2\": col_x2,\n",
    "                        \"Lag\": lag,\n",
    "                        \"TE_from_x2_to_x1\": te_from_2_to_1,\n",
    "                        \"TE_from_x1_to_x2\": te_from_1_to_2,\n",
    "                    }\n",
    "\n",
    "                    # Append the result dictionary to the results list\n",
    "                    results.append(result_dict)\n",
    "                    break\n",
    "    return pd.DataFrame(results)"
   ]
  },
  {
   "cell_type": "code",
   "execution_count": null,
   "metadata": {},
   "outputs": [],
   "source": [
    "run_transfer_entropy_for_dataframe(df, [1])"
   ]
  },
  {
   "cell_type": "code",
   "execution_count": null,
   "metadata": {},
   "outputs": [],
   "source": []
  }
 ],
 "metadata": {
  "kernelspec": {
   "display_name": ".venv_it_proj3",
   "language": "python",
   "name": "python3"
  },
  "language_info": {
   "codemirror_mode": {
    "name": "ipython",
    "version": 3
   },
   "file_extension": ".py",
   "mimetype": "text/x-python",
   "name": "python",
   "nbconvert_exporter": "python",
   "pygments_lexer": "ipython3",
   "version": "3.10.4"
  },
  "orig_nbformat": 4
 },
 "nbformat": 4,
 "nbformat_minor": 2
}
