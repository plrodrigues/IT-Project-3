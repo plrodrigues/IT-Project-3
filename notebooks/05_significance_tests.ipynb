{
 "cells": [
  {
   "cell_type": "markdown",
   "metadata": {},
   "source": [
    "# 05 Significance Tests"
   ]
  },
  {
   "cell_type": "code",
   "execution_count": 1,
   "metadata": {},
   "outputs": [],
   "source": [
    "# Wilcoxon signed-rank "
   ]
  },
  {
   "cell_type": "code",
   "execution_count": 4,
   "metadata": {},
   "outputs": [],
   "source": [
    "import pandas as pd\n",
    "from scipy.stats import wilcoxon"
   ]
  },
  {
   "cell_type": "markdown",
   "metadata": {},
   "source": [
    "## Get the results"
   ]
  },
  {
   "cell_type": "code",
   "execution_count": null,
   "metadata": {},
   "outputs": [],
   "source": [
    "df_granger = pd.read_csv('../data/results/granger_causality_p_values.csv')\n",
    "df_te = pd.read_csv(\"../data/results/transfer_entropy_bits.csv\")\n",
    "df_corr = pd.read_csv(\"../data/results/correlation.csv\")"
   ]
  },
  {
   "cell_type": "markdown",
   "metadata": {},
   "source": [
    "## Transfer Entropy vs Pearson's Correlation"
   ]
  },
  {
   "cell_type": "code",
   "execution_count": 5,
   "metadata": {},
   "outputs": [
    {
     "name": "stdout",
     "output_type": "stream",
     "text": [
      "Wilcoxon statistic: 2.0\n",
      "P-value: 0.00018310546875\n"
     ]
    }
   ],
   "source": [
    "# Sample data for TE and correlation\n",
    "data_te = {\n",
    "    'TE': [3.513891, 4.029874, 1.311172, 2.354835, 3.730116, 1.163859, 2.524392, 2.770933, 3.567835, 4.019584, 1.212144, 2.276495, 1.198058, 2.054406, 0.439938],\n",
    "}\n",
    "data_corr = {\n",
    "    'Correlation': [0.8, 0.7, 0.6, 0.5, 0.9, 0.4, 0.3, 0.85, 0.65, 0.75, 0.95, 0.6, 0.55, 0.72, 0.88],\n",
    "}\n",
    "\n",
    "df_te = pd.DataFrame(data_te)\n",
    "df_corr = pd.DataFrame(data_corr)\n",
    "\n",
    "# Perform the Wilcoxon signed-rank test\n",
    "statistic, p_value = wilcoxon(df_te['TE'], df_corr['Correlation'])\n",
    "\n",
    "# Display the test results\n",
    "print(f\"Wilcoxon statistic: {statistic}\")\n",
    "print(f\"P-value: {p_value}\")\n"
   ]
  },
  {
   "cell_type": "markdown",
   "metadata": {},
   "source": [
    "If the p-value is smaller than a chosen significance level (commonly 0.05), we can reject the null hypothesis and conclude that there is a significant difference between Pearsons' Correlation and Transfer Entropy Results.\n",
    "\n"
   ]
  },
  {
   "cell_type": "markdown",
   "metadata": {},
   "source": [
    "## Transfer Entropy vs Granger Causality"
   ]
  },
  {
   "cell_type": "code",
   "execution_count": 6,
   "metadata": {},
   "outputs": [
    {
     "name": "stdout",
     "output_type": "stream",
     "text": [
      "Wilcoxon statistic: 0.0\n",
      "P-value: 6.103515625e-05\n"
     ]
    }
   ],
   "source": [
    "\n",
    "# Sample data for TE and Granger Causality p-values\n",
    "data_te = {\n",
    "    'TE': [3.513891, 4.029874, 1.311172, 2.354835, 3.730116, 1.163859, 2.524392, 2.770933, 3.567835, 4.019584, 1.212144, 2.276495, 1.198058, 2.054406, 0.439938],\n",
    "}\n",
    "data_gc = {\n",
    "    'GrangerCausality': [0.001, 0.002, 0.005, 0.003, 0.004, 0.006, 0.008, 0.001, 0.002, 0.001, 0.009, 0.001, 0.004, 0.003, 0.007],\n",
    "}\n",
    "\n",
    "df_te = pd.DataFrame(data_te)\n",
    "df_gc = pd.DataFrame(data_gc)\n",
    "\n",
    "# Perform the Wilcoxon signed-rank test\n",
    "statistic, p_value = wilcoxon(df_te['TE'], df_gc['GrangerCausality'])\n",
    "\n",
    "# Display the test results\n",
    "print(f\"Wilcoxon statistic: {statistic}\")\n",
    "print(f\"P-value: {p_value}\")\n"
   ]
  },
  {
   "cell_type": "markdown",
   "metadata": {},
   "source": [
    "If the p-value is smaller than a chosen significance level (commonly 0.05), we can reject the null hypothesis and conclude that there is a significant difference between Granger Causality and Transfer Entropy Results.\n",
    "\n"
   ]
  },
  {
   "cell_type": "markdown",
   "metadata": {},
   "source": [
    "## Lags from Transfer Entropy vs Granger Causality"
   ]
  },
  {
   "cell_type": "code",
   "execution_count": 7,
   "metadata": {},
   "outputs": [],
   "source": [
    "from scipy.stats import f_oneway"
   ]
  },
  {
   "cell_type": "code",
   "execution_count": 8,
   "metadata": {},
   "outputs": [
    {
     "name": "stdout",
     "output_type": "stream",
     "text": [
      "F-statistic: 0.09890264277035236\n",
      "P-value: 0.7554819748751902\n"
     ]
    }
   ],
   "source": [
    "# Sample data for TE lags and Granger Causality lags\n",
    "data_te_lags = {\n",
    "    'TE_Lag': [76, 14, 168, 168, 14, 14, 14, 168, 168, 14, 168, 168, 48, 168, 14],\n",
    "}\n",
    "data_gc_lags = {\n",
    "    'GrangerCausality_Lag': [76, 76, 76, 76, 14, 14, 14, 168, 168, 14, 168, 168, 48, 168, 14],\n",
    "}\n",
    "\n",
    "df_te_lags = pd.DataFrame(data_te_lags)\n",
    "df_gc_lags = pd.DataFrame(data_gc_lags)\n",
    "\n",
    "# Perform the ANOVA test to compare lags from both methods\n",
    "f_statistic, p_value = f_oneway(df_te_lags['TE_Lag'], df_gc_lags['GrangerCausality_Lag'])\n",
    "\n",
    "# Display the test results\n",
    "print(f\"F-statistic: {f_statistic}\")\n",
    "print(f\"P-value: {p_value}\")\n"
   ]
  },
  {
   "cell_type": "code",
   "execution_count": null,
   "metadata": {},
   "outputs": [],
   "source": []
  }
 ],
 "metadata": {
  "kernelspec": {
   "display_name": ".venv_it_proj3",
   "language": "python",
   "name": "python3"
  },
  "language_info": {
   "codemirror_mode": {
    "name": "ipython",
    "version": 3
   },
   "file_extension": ".py",
   "mimetype": "text/x-python",
   "name": "python",
   "nbconvert_exporter": "python",
   "pygments_lexer": "ipython3",
   "version": "3.10.4"
  },
  "orig_nbformat": 4
 },
 "nbformat": 4,
 "nbformat_minor": 2
}
