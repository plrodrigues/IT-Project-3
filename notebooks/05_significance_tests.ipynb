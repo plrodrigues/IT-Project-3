{
 "cells": [
  {
   "cell_type": "markdown",
   "metadata": {},
   "source": [
    "# 05 Significance Tests"
   ]
  },
  {
   "cell_type": "code",
   "execution_count": 6,
   "metadata": {},
   "outputs": [
    {
     "name": "stdout",
     "output_type": "stream",
     "text": [
      "The autoreload extension is already loaded. To reload it, use:\n",
      "  %reload_ext autoreload\n"
     ]
    }
   ],
   "source": [
    "%load_ext autoreload\n",
    "%autoreload 2\n",
    "import sys\n",
    "\n",
    "sys.path.append(\"../\")\n",
    "\n",
    "import jupyter_black\n",
    "\n",
    "jupyter_black.load()"
   ]
  },
  {
   "cell_type": "markdown",
   "metadata": {},
   "source": [
    "## Wilcoxon signed-rank "
   ]
  },
  {
   "cell_type": "code",
   "execution_count": 11,
   "metadata": {},
   "outputs": [],
   "source": [
    "import pandas as pd\n",
    "import numpy as np\n",
    "from scipy.stats import wilcoxon\n",
    "from src.utils import inplace_normalise_df, inplace_zscore_df"
   ]
  },
  {
   "cell_type": "markdown",
   "metadata": {},
   "source": [
    "## Get the results"
   ]
  },
  {
   "cell_type": "code",
   "execution_count": 8,
   "metadata": {},
   "outputs": [],
   "source": [
    "df_data_granger = pd.read_csv(\"../data/results/granger_causality_p_values.csv\")\n",
    "df_data_granger.rename(columns={\"Lag\": \"Lag Granger\"}, inplace=True)\n",
    "\n",
    "df_data_te = pd.read_csv(\"../data/results/transfer_entropy_bits.csv\")\n",
    "df_data_te.rename(columns={\"Lag\": \"Lag TE\"}, inplace=True)\n",
    "\n",
    "df_data_corr = pd.read_csv(\"../data/results/correlation.csv\")\n",
    "df_data_corr.rename(columns={\"Unnamed: 0\": \"index\"}, inplace=True)"
   ]
  },
  {
   "cell_type": "markdown",
   "metadata": {},
   "source": [
    "## Transfer Entropy vs Pearson's Correlation"
   ]
  },
  {
   "cell_type": "code",
   "execution_count": 12,
   "metadata": {},
   "outputs": [
    {
     "data": {
      "text/html": [
       "<div>\n",
       "<style scoped>\n",
       "    .dataframe tbody tr th:only-of-type {\n",
       "        vertical-align: middle;\n",
       "    }\n",
       "\n",
       "    .dataframe tbody tr th {\n",
       "        vertical-align: top;\n",
       "    }\n",
       "\n",
       "    .dataframe thead th {\n",
       "        text-align: right;\n",
       "    }\n",
       "</style>\n",
       "<table border=\"1\" class=\"dataframe\">\n",
       "  <thead>\n",
       "    <tr style=\"text-align: right;\">\n",
       "      <th></th>\n",
       "      <th>Lag TE</th>\n",
       "      <th>TE</th>\n",
       "      <th>from_column</th>\n",
       "      <th>to_column</th>\n",
       "      <th>Correlation</th>\n",
       "      <th>TE_normalized</th>\n",
       "      <th>Correlation_normalized</th>\n",
       "    </tr>\n",
       "  </thead>\n",
       "  <tbody>\n",
       "    <tr>\n",
       "      <th>0</th>\n",
       "      <td>111</td>\n",
       "      <td>4.092433</td>\n",
       "      <td>dew_point_temp_c</td>\n",
       "      <td>real_hum_pct</td>\n",
       "      <td>0.139494</td>\n",
       "      <td>1.000000</td>\n",
       "      <td>0.145081</td>\n",
       "    </tr>\n",
       "    <tr>\n",
       "      <th>1</th>\n",
       "      <td>111</td>\n",
       "      <td>4.075979</td>\n",
       "      <td>temp_c</td>\n",
       "      <td>real_hum_pct</td>\n",
       "      <td>0.220182</td>\n",
       "      <td>0.995495</td>\n",
       "      <td>0.232046</td>\n",
       "    </tr>\n",
       "    <tr>\n",
       "      <th>2</th>\n",
       "      <td>128</td>\n",
       "      <td>3.815822</td>\n",
       "      <td>press_kpa</td>\n",
       "      <td>real_hum_pct</td>\n",
       "      <td>0.231424</td>\n",
       "      <td>0.924268</td>\n",
       "      <td>0.244162</td>\n",
       "    </tr>\n",
       "    <tr>\n",
       "      <th>3</th>\n",
       "      <td>137</td>\n",
       "      <td>3.617468</td>\n",
       "      <td>temp_c</td>\n",
       "      <td>press_kpa</td>\n",
       "      <td>0.236389</td>\n",
       "      <td>0.869962</td>\n",
       "      <td>0.249514</td>\n",
       "    </tr>\n",
       "    <tr>\n",
       "      <th>4</th>\n",
       "      <td>121</td>\n",
       "      <td>3.560052</td>\n",
       "      <td>dew_point_temp_c</td>\n",
       "      <td>press_kpa</td>\n",
       "      <td>0.320616</td>\n",
       "      <td>0.854242</td>\n",
       "      <td>0.340291</td>\n",
       "    </tr>\n",
       "    <tr>\n",
       "      <th>5</th>\n",
       "      <td>162</td>\n",
       "      <td>2.788516</td>\n",
       "      <td>temp_c</td>\n",
       "      <td>dew_point_temp_c</td>\n",
       "      <td>0.932714</td>\n",
       "      <td>0.643007</td>\n",
       "      <td>1.000000</td>\n",
       "    </tr>\n",
       "    <tr>\n",
       "      <th>6</th>\n",
       "      <td>110</td>\n",
       "      <td>2.592789</td>\n",
       "      <td>wind_speed_kmh</td>\n",
       "      <td>real_hum_pct</td>\n",
       "      <td>0.092743</td>\n",
       "      <td>0.589419</td>\n",
       "      <td>0.094694</td>\n",
       "    </tr>\n",
       "    <tr>\n",
       "      <th>7</th>\n",
       "      <td>155</td>\n",
       "      <td>2.400088</td>\n",
       "      <td>wind_speed_kmh</td>\n",
       "      <td>temp_c</td>\n",
       "      <td>0.061876</td>\n",
       "      <td>0.536661</td>\n",
       "      <td>0.061426</td>\n",
       "    </tr>\n",
       "    <tr>\n",
       "      <th>8</th>\n",
       "      <td>166</td>\n",
       "      <td>2.373941</td>\n",
       "      <td>wind_speed_kmh</td>\n",
       "      <td>dew_point_temp_c</td>\n",
       "      <td>0.095685</td>\n",
       "      <td>0.529502</td>\n",
       "      <td>0.097865</td>\n",
       "    </tr>\n",
       "    <tr>\n",
       "      <th>9</th>\n",
       "      <td>137</td>\n",
       "      <td>2.075443</td>\n",
       "      <td>wind_speed_kmh</td>\n",
       "      <td>press_kpa</td>\n",
       "      <td>0.356613</td>\n",
       "      <td>0.447778</td>\n",
       "      <td>0.379089</td>\n",
       "    </tr>\n",
       "    <tr>\n",
       "      <th>10</th>\n",
       "      <td>161</td>\n",
       "      <td>1.329664</td>\n",
       "      <td>visibility_km</td>\n",
       "      <td>dew_point_temp_c</td>\n",
       "      <td>0.050813</td>\n",
       "      <td>0.243594</td>\n",
       "      <td>0.049503</td>\n",
       "    </tr>\n",
       "    <tr>\n",
       "      <th>11</th>\n",
       "      <td>157</td>\n",
       "      <td>1.283395</td>\n",
       "      <td>visibility_km</td>\n",
       "      <td>temp_c</td>\n",
       "      <td>0.273455</td>\n",
       "      <td>0.230926</td>\n",
       "      <td>0.289462</td>\n",
       "    </tr>\n",
       "    <tr>\n",
       "      <th>12</th>\n",
       "      <td>105</td>\n",
       "      <td>1.225943</td>\n",
       "      <td>visibility_km</td>\n",
       "      <td>press_kpa</td>\n",
       "      <td>0.231847</td>\n",
       "      <td>0.215197</td>\n",
       "      <td>0.244618</td>\n",
       "    </tr>\n",
       "    <tr>\n",
       "      <th>13</th>\n",
       "      <td>76</td>\n",
       "      <td>1.199863</td>\n",
       "      <td>visibility_km</td>\n",
       "      <td>real_hum_pct</td>\n",
       "      <td>0.633683</td>\n",
       "      <td>0.208056</td>\n",
       "      <td>0.677710</td>\n",
       "    </tr>\n",
       "    <tr>\n",
       "      <th>14</th>\n",
       "      <td>14</td>\n",
       "      <td>0.439938</td>\n",
       "      <td>visibility_km</td>\n",
       "      <td>wind_speed_kmh</td>\n",
       "      <td>0.004883</td>\n",
       "      <td>0.000000</td>\n",
       "      <td>0.000000</td>\n",
       "    </tr>\n",
       "  </tbody>\n",
       "</table>\n",
       "</div>"
      ],
      "text/plain": [
       "    Lag TE        TE       from_column         to_column  Correlation  \\\n",
       "0      111  4.092433  dew_point_temp_c      real_hum_pct     0.139494   \n",
       "1      111  4.075979            temp_c      real_hum_pct     0.220182   \n",
       "2      128  3.815822         press_kpa      real_hum_pct     0.231424   \n",
       "3      137  3.617468            temp_c         press_kpa     0.236389   \n",
       "4      121  3.560052  dew_point_temp_c         press_kpa     0.320616   \n",
       "5      162  2.788516            temp_c  dew_point_temp_c     0.932714   \n",
       "6      110  2.592789    wind_speed_kmh      real_hum_pct     0.092743   \n",
       "7      155  2.400088    wind_speed_kmh            temp_c     0.061876   \n",
       "8      166  2.373941    wind_speed_kmh  dew_point_temp_c     0.095685   \n",
       "9      137  2.075443    wind_speed_kmh         press_kpa     0.356613   \n",
       "10     161  1.329664     visibility_km  dew_point_temp_c     0.050813   \n",
       "11     157  1.283395     visibility_km            temp_c     0.273455   \n",
       "12     105  1.225943     visibility_km         press_kpa     0.231847   \n",
       "13      76  1.199863     visibility_km      real_hum_pct     0.633683   \n",
       "14      14  0.439938     visibility_km    wind_speed_kmh     0.004883   \n",
       "\n",
       "    TE_normalized  Correlation_normalized  \n",
       "0        1.000000                0.145081  \n",
       "1        0.995495                0.232046  \n",
       "2        0.924268                0.244162  \n",
       "3        0.869962                0.249514  \n",
       "4        0.854242                0.340291  \n",
       "5        0.643007                1.000000  \n",
       "6        0.589419                0.094694  \n",
       "7        0.536661                0.061426  \n",
       "8        0.529502                0.097865  \n",
       "9        0.447778                0.379089  \n",
       "10       0.243594                0.049503  \n",
       "11       0.230926                0.289462  \n",
       "12       0.215197                0.244618  \n",
       "13       0.208056                0.677710  \n",
       "14       0.000000                0.000000  "
      ]
     },
     "execution_count": 12,
     "metadata": {},
     "output_type": "execute_result"
    }
   ],
   "source": [
    "df_corr_all_combinations = pd.melt(\n",
    "    df_data_corr, id_vars=\"index\", var_name=\"to_column\", value_name=\"Correlation\"\n",
    ")\n",
    "df_corr_all_combinations.columns = [\"from_column\", \"to_column\", \"Correlation\"]\n",
    "\n",
    "df_te_corr = df_data_te.merge(\n",
    "    df_corr_all_combinations, on=[\"from_column\", \"to_column\"], how=\"inner\"\n",
    ")\n",
    "df_te_corr[\"Correlation\"] = np.abs(df_te_corr[\"Correlation\"])\n",
    "inplace_normalise_df(df_te_corr, column=\"TE\")\n",
    "inplace_normalise_df(df_te_corr, column=\"Correlation\")\n",
    "df_te_corr"
   ]
  },
  {
   "cell_type": "code",
   "execution_count": 10,
   "metadata": {},
   "outputs": [
    {
     "name": "stdout",
     "output_type": "stream",
     "text": [
      "Wilcoxon statistic: 0.0\n",
      "P-value: 6.103515625e-05\n"
     ]
    }
   ],
   "source": [
    "# Perform the Wilcoxon signed-rank test\n",
    "statistic, p_value = wilcoxon(df_te_corr[\"TE\"], df_te_corr[\"Correlation\"])\n",
    "\n",
    "# Display the test results\n",
    "print(f\"Wilcoxon statistic: {statistic}\")\n",
    "print(f\"P-value: {p_value}\")"
   ]
  },
  {
   "cell_type": "code",
   "execution_count": 13,
   "metadata": {},
   "outputs": [
    {
     "name": "stdout",
     "output_type": "stream",
     "text": [
      "Wilcoxon statistic: 15.0\n",
      "P-value: 0.018566712279734197\n"
     ]
    },
    {
     "name": "stderr",
     "output_type": "stream",
     "text": [
      "/Users/patriciarodrigues/Documents/GitHubPhD/TINF/IT-Project-3/.venv_it_proj3/lib/python3.10/site-packages/scipy/stats/_morestats.py:4088: UserWarning: Exact p-value calculation does not work if there are zeros. Switching to normal approximation.\n",
      "  warnings.warn(\"Exact p-value calculation does not work if there are \"\n"
     ]
    }
   ],
   "source": [
    "# Perform the Wilcoxon signed-rank test\n",
    "statistic, p_value = wilcoxon(df_te_corr[\"TE_normalized\"], df_te_corr[\"Correlation_normalized\"])\n",
    "\n",
    "# Display the test results\n",
    "print(f\"Wilcoxon statistic: {statistic}\")\n",
    "print(f\"P-value: {p_value}\")"
   ]
  },
  {
   "cell_type": "markdown",
   "metadata": {},
   "source": [
    "If the p-value is smaller than a chosen significance level (commonly 0.05), we can reject the null hypothesis and conclude that there is a significant difference between Pearsons' Correlation and Transfer Entropy Results.\n",
    "\n"
   ]
  },
  {
   "cell_type": "markdown",
   "metadata": {},
   "source": [
    "## Transfer Entropy vs Granger Causality"
   ]
  },
  {
   "cell_type": "code",
   "execution_count": 14,
   "metadata": {},
   "outputs": [
    {
     "data": {
      "text/html": [
       "<div>\n",
       "<style scoped>\n",
       "    .dataframe tbody tr th:only-of-type {\n",
       "        vertical-align: middle;\n",
       "    }\n",
       "\n",
       "    .dataframe tbody tr th {\n",
       "        vertical-align: top;\n",
       "    }\n",
       "\n",
       "    .dataframe thead th {\n",
       "        text-align: right;\n",
       "    }\n",
       "</style>\n",
       "<table border=\"1\" class=\"dataframe\">\n",
       "  <thead>\n",
       "    <tr style=\"text-align: right;\">\n",
       "      <th></th>\n",
       "      <th>Lag TE</th>\n",
       "      <th>TE</th>\n",
       "      <th>from_column</th>\n",
       "      <th>to_column</th>\n",
       "      <th>Lag Granger</th>\n",
       "      <th>GrangerCausality</th>\n",
       "      <th>TE_normalized</th>\n",
       "      <th>GrangerCausality_normalized</th>\n",
       "    </tr>\n",
       "  </thead>\n",
       "  <tbody>\n",
       "    <tr>\n",
       "      <th>0</th>\n",
       "      <td>111</td>\n",
       "      <td>4.075979</td>\n",
       "      <td>temp_c</td>\n",
       "      <td>real_hum_pct</td>\n",
       "      <td>64</td>\n",
       "      <td>0.000000e+00</td>\n",
       "      <td>1.000000</td>\n",
       "      <td>0.0</td>\n",
       "    </tr>\n",
       "    <tr>\n",
       "      <th>1</th>\n",
       "      <td>137</td>\n",
       "      <td>3.617468</td>\n",
       "      <td>temp_c</td>\n",
       "      <td>press_kpa</td>\n",
       "      <td>15</td>\n",
       "      <td>0.000000e+00</td>\n",
       "      <td>0.873898</td>\n",
       "      <td>0.0</td>\n",
       "    </tr>\n",
       "    <tr>\n",
       "      <th>2</th>\n",
       "      <td>121</td>\n",
       "      <td>3.560052</td>\n",
       "      <td>dew_point_temp_c</td>\n",
       "      <td>press_kpa</td>\n",
       "      <td>33</td>\n",
       "      <td>0.000000e+00</td>\n",
       "      <td>0.858108</td>\n",
       "      <td>0.0</td>\n",
       "    </tr>\n",
       "    <tr>\n",
       "      <th>3</th>\n",
       "      <td>162</td>\n",
       "      <td>2.788516</td>\n",
       "      <td>temp_c</td>\n",
       "      <td>dew_point_temp_c</td>\n",
       "      <td>0</td>\n",
       "      <td>0.000000e+00</td>\n",
       "      <td>0.645916</td>\n",
       "      <td>0.0</td>\n",
       "    </tr>\n",
       "    <tr>\n",
       "      <th>4</th>\n",
       "      <td>110</td>\n",
       "      <td>2.592789</td>\n",
       "      <td>wind_speed_kmh</td>\n",
       "      <td>real_hum_pct</td>\n",
       "      <td>30</td>\n",
       "      <td>0.000000e+00</td>\n",
       "      <td>0.592087</td>\n",
       "      <td>0.0</td>\n",
       "    </tr>\n",
       "    <tr>\n",
       "      <th>5</th>\n",
       "      <td>137</td>\n",
       "      <td>2.075443</td>\n",
       "      <td>wind_speed_kmh</td>\n",
       "      <td>press_kpa</td>\n",
       "      <td>46</td>\n",
       "      <td>0.000000e+00</td>\n",
       "      <td>0.449804</td>\n",
       "      <td>0.0</td>\n",
       "    </tr>\n",
       "    <tr>\n",
       "      <th>6</th>\n",
       "      <td>161</td>\n",
       "      <td>1.329664</td>\n",
       "      <td>visibility_km</td>\n",
       "      <td>dew_point_temp_c</td>\n",
       "      <td>64</td>\n",
       "      <td>0.000000e+00</td>\n",
       "      <td>0.244696</td>\n",
       "      <td>0.0</td>\n",
       "    </tr>\n",
       "    <tr>\n",
       "      <th>7</th>\n",
       "      <td>157</td>\n",
       "      <td>1.283395</td>\n",
       "      <td>visibility_km</td>\n",
       "      <td>temp_c</td>\n",
       "      <td>70</td>\n",
       "      <td>0.000000e+00</td>\n",
       "      <td>0.231971</td>\n",
       "      <td>0.0</td>\n",
       "    </tr>\n",
       "    <tr>\n",
       "      <th>8</th>\n",
       "      <td>105</td>\n",
       "      <td>1.225943</td>\n",
       "      <td>visibility_km</td>\n",
       "      <td>press_kpa</td>\n",
       "      <td>166</td>\n",
       "      <td>0.000000e+00</td>\n",
       "      <td>0.216171</td>\n",
       "      <td>0.0</td>\n",
       "    </tr>\n",
       "    <tr>\n",
       "      <th>9</th>\n",
       "      <td>14</td>\n",
       "      <td>0.439938</td>\n",
       "      <td>visibility_km</td>\n",
       "      <td>wind_speed_kmh</td>\n",
       "      <td>10</td>\n",
       "      <td>2.000000e-20</td>\n",
       "      <td>0.000000</td>\n",
       "      <td>1.0</td>\n",
       "    </tr>\n",
       "  </tbody>\n",
       "</table>\n",
       "</div>"
      ],
      "text/plain": [
       "   Lag TE        TE       from_column         to_column  Lag Granger  \\\n",
       "0     111  4.075979            temp_c      real_hum_pct           64   \n",
       "1     137  3.617468            temp_c         press_kpa           15   \n",
       "2     121  3.560052  dew_point_temp_c         press_kpa           33   \n",
       "3     162  2.788516            temp_c  dew_point_temp_c            0   \n",
       "4     110  2.592789    wind_speed_kmh      real_hum_pct           30   \n",
       "5     137  2.075443    wind_speed_kmh         press_kpa           46   \n",
       "6     161  1.329664     visibility_km  dew_point_temp_c           64   \n",
       "7     157  1.283395     visibility_km            temp_c           70   \n",
       "8     105  1.225943     visibility_km         press_kpa          166   \n",
       "9      14  0.439938     visibility_km    wind_speed_kmh           10   \n",
       "\n",
       "   GrangerCausality  TE_normalized  GrangerCausality_normalized  \n",
       "0      0.000000e+00       1.000000                          0.0  \n",
       "1      0.000000e+00       0.873898                          0.0  \n",
       "2      0.000000e+00       0.858108                          0.0  \n",
       "3      0.000000e+00       0.645916                          0.0  \n",
       "4      0.000000e+00       0.592087                          0.0  \n",
       "5      0.000000e+00       0.449804                          0.0  \n",
       "6      0.000000e+00       0.244696                          0.0  \n",
       "7      0.000000e+00       0.231971                          0.0  \n",
       "8      0.000000e+00       0.216171                          0.0  \n",
       "9      2.000000e-20       0.000000                          1.0  "
      ]
     },
     "execution_count": 14,
     "metadata": {},
     "output_type": "execute_result"
    }
   ],
   "source": [
    "df_te_granger = df_data_te.merge(df_data_granger, on=[\"from_column\", \"to_column\"], how=\"inner\")\n",
    "inplace_normalise_df(df_te_granger, column=\"TE\")\n",
    "inplace_normalise_df(df_te_granger, column=\"GrangerCausality\")\n",
    "df_te_granger"
   ]
  },
  {
   "cell_type": "code",
   "execution_count": 15,
   "metadata": {},
   "outputs": [
    {
     "name": "stdout",
     "output_type": "stream",
     "text": [
      "15 15 10\n"
     ]
    }
   ],
   "source": [
    "# missing relations\n",
    "print(len(df_data_te), len(df_data_granger), len(df_te_granger))"
   ]
  },
  {
   "cell_type": "markdown",
   "metadata": {},
   "source": [
    "There are 5 different causality relationships."
   ]
  },
  {
   "cell_type": "code",
   "execution_count": 8,
   "metadata": {},
   "outputs": [
    {
     "name": "stdout",
     "output_type": "stream",
     "text": [
      "Wilcoxon statistic: 0.0\n",
      "P-value: 0.001953125\n"
     ]
    }
   ],
   "source": [
    "# Perform the Wilcoxon signed-rank test\n",
    "statistic, p_value = wilcoxon(df_te_granger['TE'], df_te_granger['GrangerCausality'])\n",
    "\n",
    "# Display the test results\n",
    "print(f\"Wilcoxon statistic: {statistic}\")\n",
    "print(f\"P-value: {p_value}\")\n"
   ]
  },
  {
   "cell_type": "code",
   "execution_count": 17,
   "metadata": {},
   "outputs": [
    {
     "name": "stdout",
     "output_type": "stream",
     "text": [
      "Wilcoxon statistic: 9.5\n",
      "P-value: 0.083984375\n"
     ]
    }
   ],
   "source": [
    "# Perform the Wilcoxon signed-rank test\n",
    "statistic, p_value = wilcoxon(\n",
    "    df_te_granger[\"TE_normalized\"], df_te_granger[\"GrangerCausality_normalized\"]\n",
    ")\n",
    "\n",
    "# Display the test results\n",
    "print(f\"Wilcoxon statistic: {statistic}\")\n",
    "print(f\"P-value: {p_value}\")"
   ]
  },
  {
   "cell_type": "markdown",
   "metadata": {},
   "source": [
    "If the p-value is smaller than a chosen significance level (commonly 0.05), we can reject the null hypothesis and conclude that there is a significant difference between Granger Causality and Transfer Entropy Results.\n",
    "\n"
   ]
  },
  {
   "cell_type": "markdown",
   "metadata": {},
   "source": [
    "## Lags from Transfer Entropy vs Granger Causality"
   ]
  },
  {
   "cell_type": "code",
   "execution_count": 19,
   "metadata": {},
   "outputs": [
    {
     "name": "stdout",
     "output_type": "stream",
     "text": [
      "F-statistic: 3.0\n",
      "P-value: 0.009765625\n"
     ]
    }
   ],
   "source": [
    "# Perform test to compare lags from both methods\n",
    "statistic, p_value = wilcoxon(df_te_granger[\"Lag TE\"], df_te_granger[\"Lag Granger\"])\n",
    "\n",
    "# Display the test results\n",
    "print(f\"F-statistic: {statistic}\")\n",
    "print(f\"P-value: {p_value}\")"
   ]
  },
  {
   "cell_type": "markdown",
   "metadata": {},
   "source": [
    "If the p-value is smaller than a chosen significance level (commonly 0.05), we can reject the null hypothesis and conclude that there is a significant difference between Lag reported by Granger Causality and the Lag reported by Transfer Entropy Results.\n",
    "\n"
   ]
  },
  {
   "cell_type": "code",
   "execution_count": null,
   "metadata": {},
   "outputs": [],
   "source": []
  }
 ],
 "metadata": {
  "kernelspec": {
   "display_name": ".venv_it_proj3",
   "language": "python",
   "name": "python3"
  },
  "language_info": {
   "codemirror_mode": {
    "name": "ipython",
    "version": 3
   },
   "file_extension": ".py",
   "mimetype": "text/x-python",
   "name": "python",
   "nbconvert_exporter": "python",
   "pygments_lexer": "ipython3",
   "version": "3.10.4"
  },
  "orig_nbformat": 4
 },
 "nbformat": 4,
 "nbformat_minor": 2
}
